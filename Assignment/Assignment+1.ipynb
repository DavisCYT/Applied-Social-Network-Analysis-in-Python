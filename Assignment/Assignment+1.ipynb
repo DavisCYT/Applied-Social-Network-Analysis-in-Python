{
 "cells": [
  {
   "cell_type": "markdown",
   "metadata": {},
   "source": [
    "---\n",
    "\n",
    "_You are currently looking at **version 1.1** of this notebook. To download notebooks and datafiles, as well as get help on Jupyter notebooks in the Coursera platform, visit the [Jupyter Notebook FAQ](https://www.coursera.org/learn/python-social-network-analysis/resources/yPcBs) course resource._\n",
    "\n",
    "---"
   ]
  },
  {
   "cell_type": "markdown",
   "metadata": {},
   "source": [
    "# Assignment 1 - Creating and Manipulating Graphs\n",
    "\n",
    "Eight employees at a small company were asked to choose 3 movies that they would most enjoy watching for the upcoming company movie night. These choices are stored in the file `Employee_Movie_Choices.txt`.\n",
    "\n",
    "A second file, `Employee_Relationships.txt`, has data on the relationships between different coworkers. \n",
    "\n",
    "The relationship score has value of `-100` (Enemies) to `+100` (Best Friends). A value of zero means the two employees haven't interacted or are indifferent.\n",
    "\n",
    "Both files are tab delimited."
   ]
  },
  {
   "cell_type": "code",
   "execution_count": 280,
   "metadata": {
    "collapsed": true
   },
   "outputs": [],
   "source": [
    "import networkx as nx\n",
    "import pandas as pd\n",
    "import numpy as np\n",
    "from networkx.algorithms import bipartite\n",
    "#%matplotlib notebook\n",
    "# This is the set of employees\n",
    "employees = set(['Pablo',\n",
    "                 'Lee',\n",
    "                 'Georgia',\n",
    "                 'Vincent',\n",
    "                 'Andy',\n",
    "                 'Frida',\n",
    "                 'Joan',\n",
    "                 'Claude'])\n",
    "\n",
    "# This is the set of movies\n",
    "movies = set(['The Shawshank Redemption',\n",
    "              'Forrest Gump',\n",
    "              'The Matrix',\n",
    "              'Anaconda',\n",
    "              'The Social Network',\n",
    "              'The Godfather',\n",
    "              'Monty Python and the Holy Grail',\n",
    "              'Snakes on a Plane',\n",
    "              'Kung Fu Panda',\n",
    "              'The Dark Knight',\n",
    "              'Mean Girls'])\n",
    "\n",
    "\n",
    "# you can use the following function to plot graphs\n",
    "# make sure to comment it out before submitting to the autograder\n",
    "# def plot_graph(G, weight_name=None):\n",
    "#     '''\n",
    "#     G: a networkx G\n",
    "#     weight_name: name of the attribute for plotting edge weights (if G is weighted)\n",
    "#     '''\n",
    "#     #%matplotlib notebook\n",
    "#     #import matplotlib.pyplot as plt\n",
    "    \n",
    "#     plt.figure()\n",
    "#     pos = nx.spring_layout(G)\n",
    "#     edges = G.edges()\n",
    "#     weights = None\n",
    "    \n",
    "#     if weight_name:\n",
    "#         weights = [int(G[u][v][weight_name]) for u,v in edges]\n",
    "#         labels = nx.get_edge_attributes(G,weight_name)\n",
    "#         nx.draw_networkx_edge_labels(G,pos,edge_labels=labels)\n",
    "#         nx.draw_networkx(G, pos, edges=edges, width=weights);\n",
    "#     else:\n",
    "#         nx.draw_networkx(G, pos, edges=edges);"
   ]
  },
  {
   "cell_type": "markdown",
   "metadata": {},
   "source": [
    "### Question 1\n",
    "\n",
    "Using NetworkX, load in the bipartite graph from `Employee_Movie_Choices.txt` and return that graph.\n",
    "\n",
    "*This function should return a networkx graph with 19 nodes and 24 edges*"
   ]
  },
  {
   "cell_type": "code",
   "execution_count": 306,
   "metadata": {},
   "outputs": [
    {
     "data": {
      "text/plain": [
       "<networkx.classes.graph.Graph at 0x7fa9c5c04080>"
      ]
     },
     "execution_count": 306,
     "metadata": {},
     "output_type": "execute_result"
    }
   ],
   "source": [
    "\n",
    "        \n",
    "# # Your Code Here\n",
    "# G1_df = pd.read_csv('Employee_Movie_Choices.txt', sep='\\t',\n",
    "#                    header=None, skiprows = 1, names=['Employees', 'Movies'])\n",
    "# G1 = nx.from_pandas_dataframe(G1_df, 'Employees', 'Movies')\n",
    "# G1 # Your Answer Here\n",
    "# #answer_one()\n",
    "# #plot_graph(answer_one())"
   ]
  },
  {
   "cell_type": "code",
   "execution_count": 307,
   "metadata": {
    "collapsed": true
   },
   "outputs": [],
   "source": [
    "# nx.draw_networkx(G1)"
   ]
  },
  {
   "cell_type": "code",
   "execution_count": 285,
   "metadata": {
    "collapsed": true
   },
   "outputs": [],
   "source": [
    "def answer_one():\n",
    "    movie_df = pd.read_csv('Employee_Movie_Choices.txt', sep = '\\t')\n",
    "    G = nx.from_pandas_dataframe(movie_df, '#Employee', 'Movie', edge_attr = 'Movie')\n",
    "    B = nx.Graph()\n",
    "    B.add_nodes_from(employees, bipartite = 0)\n",
    "    B.add_nodes_from(movies, bipartite = 1)\n",
    "    B.add_edges_from(G.edges())\n",
    "    \n",
    "    # Your Code Here\n",
    "    \n",
    "    return B# Your Answer Here"
   ]
  },
  {
   "cell_type": "code",
   "execution_count": 286,
   "metadata": {},
   "outputs": [
    {
     "data": {
      "text/plain": [
       "{'Anaconda': {'bipartite': 1},\n",
       " 'Andy': {'bipartite': 0},\n",
       " 'Claude': {'bipartite': 0},\n",
       " 'Forrest Gump': {'bipartite': 1},\n",
       " 'Frida': {'bipartite': 0},\n",
       " 'Georgia': {'bipartite': 0},\n",
       " 'Joan': {'bipartite': 0},\n",
       " 'Kung Fu Panda': {'bipartite': 1},\n",
       " 'Lee': {'bipartite': 0},\n",
       " 'Mean Girls': {'bipartite': 1},\n",
       " 'Monty Python and the Holy Grail': {'bipartite': 1},\n",
       " 'Pablo': {'bipartite': 0},\n",
       " 'Snakes on a Plane': {'bipartite': 1},\n",
       " 'The Dark Knight': {'bipartite': 1},\n",
       " 'The Godfather': {'bipartite': 1},\n",
       " 'The Matrix': {'bipartite': 1},\n",
       " 'The Shawshank Redemption': {'bipartite': 1},\n",
       " 'The Social Network': {'bipartite': 1},\n",
       " 'Vincent': {'bipartite': 0}}"
      ]
     },
     "execution_count": 286,
     "metadata": {},
     "output_type": "execute_result"
    }
   ],
   "source": [
    "answer_one().node"
   ]
  },
  {
   "cell_type": "markdown",
   "metadata": {},
   "source": [
    "### Question 2\n",
    "\n",
    "Using the graph from the previous question, add nodes attributes named `'type'` where movies have the value `'movie'` and employees have the value `'employee'` and return that graph.\n",
    "\n",
    "*This function should return a networkx graph with node attributes `{'type': 'movie'}` or `{'type': 'employee'}`*"
   ]
  },
  {
   "cell_type": "code",
   "execution_count": 287,
   "metadata": {
    "collapsed": true
   },
   "outputs": [],
   "source": [
    "def answer_two():\n",
    "    B = answer_one()\n",
    "    for i in B.nodes():\n",
    "        if i in movies:\n",
    "            B.add_node(i, type = 'movie')\n",
    "        else:\n",
    "            B.add_node(i, type = 'employee')\n",
    "    # Your Code Here\n",
    "    \n",
    "    return B# Your Answer Here"
   ]
  },
  {
   "cell_type": "code",
   "execution_count": 288,
   "metadata": {},
   "outputs": [
    {
     "data": {
      "text/plain": [
       "{'Anaconda': {'bipartite': 1, 'type': 'movie'},\n",
       " 'Andy': {'bipartite': 0, 'type': 'employee'},\n",
       " 'Claude': {'bipartite': 0, 'type': 'employee'},\n",
       " 'Forrest Gump': {'bipartite': 1, 'type': 'movie'},\n",
       " 'Frida': {'bipartite': 0, 'type': 'employee'},\n",
       " 'Georgia': {'bipartite': 0, 'type': 'employee'},\n",
       " 'Joan': {'bipartite': 0, 'type': 'employee'},\n",
       " 'Kung Fu Panda': {'bipartite': 1, 'type': 'movie'},\n",
       " 'Lee': {'bipartite': 0, 'type': 'employee'},\n",
       " 'Mean Girls': {'bipartite': 1, 'type': 'movie'},\n",
       " 'Monty Python and the Holy Grail': {'bipartite': 1, 'type': 'movie'},\n",
       " 'Pablo': {'bipartite': 0, 'type': 'employee'},\n",
       " 'Snakes on a Plane': {'bipartite': 1, 'type': 'movie'},\n",
       " 'The Dark Knight': {'bipartite': 1, 'type': 'movie'},\n",
       " 'The Godfather': {'bipartite': 1, 'type': 'movie'},\n",
       " 'The Matrix': {'bipartite': 1, 'type': 'movie'},\n",
       " 'The Shawshank Redemption': {'bipartite': 1, 'type': 'movie'},\n",
       " 'The Social Network': {'bipartite': 1, 'type': 'movie'},\n",
       " 'Vincent': {'bipartite': 0, 'type': 'employee'}}"
      ]
     },
     "execution_count": 288,
     "metadata": {},
     "output_type": "execute_result"
    }
   ],
   "source": [
    "answer_two().node"
   ]
  },
  {
   "cell_type": "markdown",
   "metadata": {
    "collapsed": true
   },
   "source": [
    "### Question 3\n",
    "\n",
    "Find a weighted projection of the graph from `answer_two` which tells us how many movies different pairs of employees have in common.\n",
    "\n",
    "*This function should return a weighted projected graph.*"
   ]
  },
  {
   "cell_type": "code",
   "execution_count": 300,
   "metadata": {
    "collapsed": true
   },
   "outputs": [],
   "source": [
    "def answer_three():\n",
    "        \n",
    "    # Your Code Here\n",
    "    G2 = answer_two()\n",
    "    result = bipartite.weighted_projected_graph(G2, employees)\n",
    "    \n",
    "    return result# Your Answer Here"
   ]
  },
  {
   "cell_type": "code",
   "execution_count": 324,
   "metadata": {},
   "outputs": [
    {
     "data": {
      "text/plain": [
       "[('Claude', 'Andy', {'weight': 1}),\n",
       " ('Claude', 'Georgia', {'weight': 3}),\n",
       " ('Andy', 'Joan', {'weight': 1}),\n",
       " ('Andy', 'Pablo', {'weight': 1}),\n",
       " ('Andy', 'Lee', {'weight': 1}),\n",
       " ('Andy', 'Frida', {'weight': 1}),\n",
       " ('Andy', 'Georgia', {'weight': 1}),\n",
       " ('Joan', 'Lee', {'weight': 3}),\n",
       " ('Vincent', 'Pablo', {'weight': 1}),\n",
       " ('Vincent', 'Frida', {'weight': 2}),\n",
       " ('Pablo', 'Frida', {'weight': 2})]"
      ]
     },
     "execution_count": 324,
     "metadata": {},
     "output_type": "execute_result"
    }
   ],
   "source": [
    "answer_three().edges(data = True)"
   ]
  },
  {
   "cell_type": "code",
   "execution_count": 325,
   "metadata": {
    "collapsed": true
   },
   "outputs": [],
   "source": [
    "G3 = pd.DataFrame(answer_three().edges(data = True), columns = ['Person1', 'Person2', 'Common'])"
   ]
  },
  {
   "cell_type": "markdown",
   "metadata": {},
   "source": [
    "### Question 4\n",
    "\n",
    "Suppose you'd like to find out if people that have a high relationship score also like the same types of movies.\n",
    "\n",
    "Find the Pearson correlation ( using `DataFrame.corr()` ) between employee relationship scores and the number of movies they have in common. If two employees have no movies in common it should be treated as a 0, not a missing value, and should be included in the correlation calculation.\n",
    "\n",
    "*This function should return a float.*"
   ]
  },
  {
   "cell_type": "code",
   "execution_count": 384,
   "metadata": {
    "collapsed": true
   },
   "outputs": [],
   "source": [
    "def answer_four():\n",
    "        \n",
    "    # Your Code Here\n",
    "    df = pd.read_csv('Employee_Relationships.txt', sep = '\\t',names = ['Person1', 'Person2' , 'Relationship'])\n",
    "    G3 = pd.DataFrame(answer_three().edges(data = True), columns = ['Person1', 'Person2', 'Common'])\n",
    "    G3['Common'] = G3['Common'].map(lambda x : x['weight'])\n",
    "    new_df = pd.merge(df, G3, how = 'left', left_on = ['Person1', 'Person2'], right_on = ['Person1', 'Person2'])\n",
    "    new_df = pd.merge(new_df, G3,how = 'left', left_on = ['Person1', 'Person2'], right_on = ['Person2', 'Person1'])\n",
    "    new_df[['Common_x', 'Common_y']] = new_df[['Common_x', 'Common_y']] .fillna(0)\n",
    "\n",
    "    new_df['Common'] = new_df['Common_x'] + new_df['Common_y']\n",
    "\n",
    "    result = new_df['Relationship'].corr(new_df['Common'], method = 'pearson')\n",
    "    \n",
    "    return result# Your Answer Here"
   ]
  },
  {
   "cell_type": "code",
   "execution_count": 385,
   "metadata": {},
   "outputs": [
    {
     "data": {
      "text/plain": [
       "0.78839622217334748"
      ]
     },
     "execution_count": 385,
     "metadata": {},
     "output_type": "execute_result"
    }
   ],
   "source": [
    "answer_four()"
   ]
  },
  {
   "cell_type": "code",
   "execution_count": null,
   "metadata": {
    "collapsed": true
   },
   "outputs": [],
   "source": []
  }
 ],
 "metadata": {
  "coursera": {
   "course_slug": "python-social-network-analysis",
   "graded_item_id": "YNa9b",
   "launcher_item_id": "hvNc1",
   "part_id": "VbyiB"
  },
  "kernelspec": {
   "display_name": "Python 3",
   "language": "python",
   "name": "python3"
  },
  "language_info": {
   "codemirror_mode": {
    "name": "ipython",
    "version": 3
   },
   "file_extension": ".py",
   "mimetype": "text/x-python",
   "name": "python",
   "nbconvert_exporter": "python",
   "pygments_lexer": "ipython3",
   "version": "3.6.2"
  }
 },
 "nbformat": 4,
 "nbformat_minor": 2
}
